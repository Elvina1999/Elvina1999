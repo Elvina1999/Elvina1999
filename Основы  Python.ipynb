{
 "cells": [
  {
   "cell_type": "code",
   "execution_count": 9,
   "id": "c3a2ba0a",
   "metadata": {},
   "outputs": [
    {
     "name": "stdout",
     "output_type": "stream",
     "text": [
      "phrase_1\n"
     ]
    }
   ],
   "source": [
    "#Задание 1\n",
    "#Даны 2 переменных, в которых хранятся строки произвольной длины: phrase_1 и phrase_2.\n",
    "#Напишите код, который проверяет какая из этих строк длиннее.\n",
    "phrase_1 = 'Насколько проще было бы писать программы, если бы не заказчики'\n",
    "phrase_2 = '640Кб должно хватить для любых задач. Билл Гейтс (по легенде)'\n",
    "a=len(phrase_1)\n",
    "b=len(phrase_2)\n",
    "if(a>b):\n",
    "    print('phrase_1')\n",
    "else:\n",
    "    'phrase_2'"
   ]
  },
  {
   "cell_type": "code",
   "execution_count": 21,
   "id": "3cc68574",
   "metadata": {},
   "outputs": [
    {
     "name": "stdout",
     "output_type": "stream",
     "text": [
      "2020\n",
      "2020 = високосный год\n"
     ]
    }
   ],
   "source": [
    "#Задание 2\n",
    "#Дана переменная, в которой хранится число (год). Необходимо написать программу, которая выведет, является ли \n",
    "#данный год високосным или обычным.\n",
    "year=int(input())\n",
    "if(year%4==0):\n",
    "    print(year,'= високосный год')\n",
    "else:\n",
    "    print(year,'= обычный год')"
   ]
  },
  {
   "cell_type": "code",
   "execution_count": null,
   "id": "e670f91d",
   "metadata": {},
   "outputs": [],
   "source": [
    "#Задание 3\n",
    "#Необходимо написать программу, которая будет запрашивать у пользователя месяц и дату \n",
    "#рождения и выводить соответствующий знак зодиака.\n",
    "a=int(input('Введите день:'))\n",
    "b=str(input('Введите месяц:'))\n",
    "if(a>20 and b==str('март')) or (21>a>0 and b== str('апрель')):\n",
    "    print('Ваш знак зодиака: овен')\n",
    "elif(a>20 and b==str('апрель') or (21>a>0 and b== str('май'))):\n",
    "    print('Ваш знак зодиака: телец')\n",
    "elif(a>20 and b==str('май')or (22>a>0 and b== str('июнь'))):\n",
    "    print('Ваш знак зодиака: близнецы')\n",
    "elif(a>21 and b==str('июнь')or (23>a>0 and b== str('июль'))):\n",
    "    print('Ваш знак зодиака: рак')\n",
    "elif(a>22 and b==str('июль')or (24>a>0 and b== str('август'))):\n",
    "    print('Ваш знак зодиака: лев')   \n",
    "elif(a>23 and b==str('август')or (24>a>0 and b== str('сентябрь'))):\n",
    "    print('Ваш знак зодиака: дева')\n",
    "elif(a>23 and b==str('сентябрь')or (24>a>0 and b== str('октябрь'))):\n",
    "    print('Ваш знак зодиака: весы')\n",
    "elif(a>23 and b==str('октябрь')or (23>a>0 and b== str('ноябрь'))):\n",
    "    print('Ваш знак зодиака: скорпион')\n",
    "elif(a>22 and b==str('ноябрь')or (22>a>0 and b== str('декабрь'))):\n",
    "    print('Ваш знак зодиака: стрелец')\n",
    "elif(a>21 and b==str('декабрь')or (21>a>0 and b== str('январь'))):\n",
    "    print('Ваш знак зодиака: козерог')\n",
    "elif(a>20 and b==str('январь')or (21>a>0 and b== str('февраль'))):\n",
    "    print('Ваш знак зодиака: водолей')\n",
    "elif(a>20 and b==str('февраль')or (21>a>0 and b== str('март'))):\n",
    "    print('Ваш знак зодиака: рыбы')"
   ]
  },
  {
   "cell_type": "code",
   "execution_count": null,
   "id": "bf1ecbb9",
   "metadata": {},
   "outputs": [],
   "source": [
    "#Задание 4\n",
    "#Вам нужно написать программу для подбора упаковок по размерам товара. Размеры \n",
    "#(ширина, длина, высота) хранятся в переменных (в сантиметрах):\n",
    "a,b,c = int(input('width=')), int(input('length=')), int(input('height='))\n",
    "if a>199 or b>199 or c>199:\n",
    "    print('Упаковка для лыж')\n",
    "elif a<= 15 and b<= 15 and c <= 15:\n",
    "    print('Коробка №1')\n",
    "else: \n",
    "    print('Коробка №3')"
   ]
  },
  {
   "cell_type": "code",
   "execution_count": null,
   "id": "da9abcf6",
   "metadata": {},
   "outputs": [],
   "source": [
    "#Задание 5 \n",
    "#Дана переменная, в которой хранится шестизначное число (номер проездного билета). \n",
    "#Напишите программу, которая будет определять, является ли данный билет \"счастливым\". \n",
    "#Билет считается счастливым, если сумма первых трех цифр совпадает с суммой последних \n",
    "#трех цифр номера.\n",
    "a=int(input())\n",
    "b=a//100000\n",
    "c=a%100000//10000\n",
    "d=a%10000//1000\n",
    "f=a%1000//100\n",
    "h=a%100//10\n",
    "g=a%10\n",
    "sum1_3 = b+c+d\n",
    "sum4_6 = f+h+g\n",
    "if sum1_3 == sum4_6:\n",
    "    print('ваш билет - счастливый')\n",
    "else:\n",
    "    print('ваш билет - несчастливый')"
   ]
  },
  {
   "cell_type": "code",
   "execution_count": null,
   "id": "27cad14a",
   "metadata": {},
   "outputs": [],
   "source": [
    "#Задание 6 \n",
    "#Напишите программу, которая сможет вычислять площади трех фигур (круг, треугольник \n",
    "#и прямоугольник). Тип фигуры запрашиваем через пользовательский ввод, после чего \n",
    "#делаем запрос характеристик фигуры:\n",
    "#если пользователь выбрал круг, запрашиваем его радиус,\n",
    "#если треугольник – длины трех его сторон;\n",
    "#если прямоугольник – длины двух его сторон.\n",
    "print('Введите тип фигуры:') \n",
    "q = str(input()) \n",
    "a = str('треугольник') \n",
    "b = str('круг') \n",
    "c = str('прямоугольник') \n",
    "if a == q: \n",
    "    print('введите длины трех сторон:') \n",
    "    h = int(input()) \n",
    "    k = int(input()) \n",
    "    u = int(input()) \n",
    "    p = (h+k+u)/2 \n",
    "    H = (p*(p-h)*(p-k)*(p-u))**(1/2)  \n",
    "    print('площадь:', H)\n",
    "elif b == q:\n",
    "    print('введите радиус:') \n",
    "    R = int(input())\n",
    "    rad = R**2\n",
    "    print('площадь:', rad )\n",
    "else:\n",
    "    print('введите длины двух сторон')\n",
    "    a1, b1 = int(input()), int(input())\n",
    "    print('площадь:', a1*b1)"
   ]
  }
 ],
 "metadata": {
  "kernelspec": {
   "display_name": "Python 3 (ipykernel)",
   "language": "python",
   "name": "python3"
  },
  "language_info": {
   "codemirror_mode": {
    "name": "ipython",
    "version": 3
   },
   "file_extension": ".py",
   "mimetype": "text/x-python",
   "name": "python",
   "nbconvert_exporter": "python",
   "pygments_lexer": "ipython3",
   "version": "3.11.5"
  }
 },
 "nbformat": 4,
 "nbformat_minor": 5
}
